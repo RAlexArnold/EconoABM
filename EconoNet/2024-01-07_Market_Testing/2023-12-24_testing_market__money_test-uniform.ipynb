{
 "cells": [
  {
   "cell_type": "code",
   "execution_count": 1,
   "id": "ee3bcf47",
   "metadata": {},
   "outputs": [],
   "source": [
    "import Agents\n",
    "import Markets\n",
    "\n",
    "import numpy as np\n",
    "import seaborn as sns\n",
    "import matplotlib.pyplot as plt\n",
    "import scipy.stats\n",
    "\n",
    "def add_price_data(df, t):\n",
    "    \n",
    "    pA_buy, pA_sell, pB_buy, pB_sell = df\n",
    "\n",
    "    pA_buy[t] = agent_list[0].p_buy\n",
    "    pA_sell[t] = agent_list[0].p_sell\n",
    "\n",
    "    pB_buy[t] = agent_list[1].p_buy\n",
    "    pB_sell[t] = agent_list[1].p_sell\n",
    "\n"
   ]
  },
  {
   "cell_type": "code",
   "execution_count": 2,
   "id": "cb0509a1",
   "metadata": {},
   "outputs": [],
   "source": [
    "def add_quant_data(df, t):\n",
    "\n",
    "    QA_df, QB_df = df\n",
    "\n",
    "    QA_df[t] = agent_list[0].Q\n",
    "    QB_df[t] = agent_list[1].Q\n",
    "    \n",
    "    #print(agent_list[0].Q)\n",
    "    \n",
    "def add_deficit_data(df, t):\n",
    "\n",
    "    DA_df, DB_df = df\n",
    "\n",
    "    DA_df[t] = agent_list[0].D\n",
    "    DB_df[t] = agent_list[1].D\n",
    "    \n",
    "def add_money_data(M_df, t):\n",
    "    \n",
    "    M_df[t,0] = agent_list[0].M\n",
    "    M_df[t,1] = agent_list[1].M\n",
    "    \n",
    "def reset():\n",
    "    \n",
    "    agent_list[0].Q = QA\n",
    "    agent_list[0].D = DA\n",
    "    agent_list[1].Q = QB\n",
    "    agent_list[1].D = DB\n",
    "    \n",
    "    market.reset()\n",
    "    \n",
    "    agent_list[0].p_buy = [p1buy_A_0, p2buy_A_0]#np.random.uniform(M, size=n) #[15, 10]\n",
    "    agent_list[0].p_sell = [p1sell_A_0, p2sell_A_0]#np.random.uniform(M, size=n) #[25, 30]\n",
    "\n",
    "    agent_list[1].p_buy = [p1buy_B_0, p2buy_B_0]#np.random.uniform(M, size=n) #[10, 15]\n",
    "    agent_list[1].p_sell = [p1sell_B_0, p2sell_B_0]#np.random.uniform(M, size=n) #[30, 25]"
   ]
  },
  {
   "cell_type": "code",
   "execution_count": 3,
   "id": "9456eca3",
   "metadata": {},
   "outputs": [],
   "source": [
    "def plot_market(i, *, ps=10, log=False):\n",
    "\n",
    "    f, ax = plt.subplots(1, figsize=(10,4)) #(2,1)\n",
    "\n",
    "    ax.plot(ME_df[:,i], c='C0', label=f'$\\Delta M_{i}$')\n",
    "    ax.plot(QE_df[:,i], c='C1', label=f'$\\Delta Q_{i}$')\n",
    "    ax.plot(ntries_df, c='k', label='Tries', lw='0.5')\n",
    "\n",
    "    p = ME_df[:,i]/QE_df[:,i]\n",
    "    ax.scatter(np.arange(0,T), p, c='g', label='f$p_{i}$', s=ps)\n",
    "\n",
    "    ax.legend()\n",
    "    \n",
    "    if log:\n",
    "        plt.yscale('log')\n",
    "        \n",
    "    plt.title(f'Market for Commodity {i}')\n",
    "    plt.xlabel('t')\n",
    "    plt.ylabel('$M$, $Q$')\n",
    "\n",
    "\n",
    "def plot_prices(p_df, i, *, ps=10, log=False, includeM=True):\n",
    "\n",
    "    'A sells i=0 and buys i=1, and vice versa for B'\n",
    "\n",
    "    if i == 0:\n",
    "        plt.plot(p_df[1][:,i], c='C0', ls='-.', label=f\"A's Selling Price for {i}\")\n",
    "        plt.plot(p_df[2][:,i], c='C1', ls='-', label=f\"B's Buying Price for {i}\")\n",
    "\n",
    "    elif i == 1:\n",
    "        plt.plot(p_df[0][:,i], c='C0', ls='-', label=f\"A's Buying Price for {i}\")\n",
    "        plt.plot(p_df[3][:,i], c='C1', ls='-.', label=f\"B's Selling Price for {i}\")\n",
    "\n",
    "    if includeM:\n",
    "        plt.plot(M_df[:,0], c='C0', ls=':', lw=0.5, label=f'$M_A$')\n",
    "        plt.plot(M_df[:,1], c='C1', ls=':', lw=0.5, label=f'$M_B$')\n",
    "    \n",
    "    p = ME_df[:,i]/QE_df[:,i]\n",
    "    plt.scatter(np.arange(T)+0.5, p, c='g', s=ps)\n",
    "    \n",
    "    plt.legend()\n",
    "    \n",
    "    if log:\n",
    "        plt.yscale('log')\n",
    "\n",
    "    plt.title(f'Market Prices for Commodity {i}')\n",
    "    plt.xlabel('t')\n",
    "    plt.ylabel('Prices')\n",
    "    \n",
    "def plot_quantities(Q_df, D_df, i):\n",
    "\n",
    "    plt.plot(Q_df[0][:,i], c='C0', ls='-', label=f\"A's Q{i}\")\n",
    "    plt.plot(D_df[0][:,i], c='C0', ls=':', label=f\"A's D{i}\")\n",
    "\n",
    "    plt.plot(Q_df[1][:,i], c='C1', ls='-', label=f\"B's Q{i}\")\n",
    "    plt.plot(D_df[1][:,i], c='C1', ls=':', label=f\"B's D{i}\")\n",
    "\n",
    "    plt.legend()\n",
    "\n",
    "    plt.title(f'Quantities for Commodity {i}')\n",
    "    plt.xlabel('t')\n",
    "    plt.ylabel('Q,D')\n"
   ]
  },
  {
   "cell_type": "code",
   "execution_count": 4,
   "id": "71fc7879",
   "metadata": {},
   "outputs": [],
   "source": [
    "def run_simulation(T):\n",
    "\n",
    "    reset()\n",
    "\n",
    "\n",
    "    # Setup data\n",
    "    pA_buy, pA_sell, pB_buy, pB_sell = np.zeros((T, 2)), np.zeros((T, 2)), np.zeros((T, 2)), np.zeros((T, 2))\n",
    "    p_df = (pA_buy, pA_sell, pB_buy, pB_sell)\n",
    "\n",
    "    QA_df, QB_df = np.zeros((T, 2)), np.zeros((T, 2))\n",
    "    Q_df = (QA_df, QB_df)\n",
    "\n",
    "    DA_df, DB_df = np.zeros((T, 2)), np.zeros((T, 2))\n",
    "    D_df = (DA_df, DB_df)\n",
    "\n",
    "    M_df = np.zeros((T,2))\n",
    "\n",
    "    ME_df = np.zeros((T,2))\n",
    "    QE_df = np.zeros((T,2))\n",
    "    sE_df = np.zeros((T,2))\n",
    "    ntries_df = []\n",
    "\n",
    "\n",
    "    add_price_data(p_df, 0)\n",
    "    add_quant_data(Q_df, 0)\n",
    "    add_deficit_data(D_df, 0)\n",
    "    add_money_data(M_df, 0)\n",
    "\n",
    "    # Run market\n",
    "    for t in range(T-1):\n",
    "\n",
    "        # Market action occurs at half-time interval\n",
    "        ME, QE, stn_dev, ntries = market.run_exchange(ExchangeDict)\n",
    "\n",
    "        # Reset quantities\n",
    "        agent_list[0].Q = np.array([QA1, QA2]) #QA_0 #*np.exp(-0.1*t)\n",
    "        agent_list[1].Q = np.array([QB1, QB2]) #QB_0 #*np.exp(-0.1*t)\n",
    "        #agent_list[0].D = DA.copy()#*t\n",
    "        #agent_list[1].D = DB.copy()*t\n",
    "\n",
    "        #print(QA, agent_list[0].Q)\n",
    "\n",
    "        add_price_data(p_df, t+1)\n",
    "        add_quant_data(Q_df, t+1)\n",
    "        add_deficit_data(D_df, t+1)\n",
    "        add_money_data(M_df, t+1)\n",
    "\n",
    "        # Market action occurs at half-time interval\n",
    "        ME_df[t] = ME\n",
    "        QE_df[t] = QE\n",
    "        sE_df[t] = stn_dev\n",
    "        ntries_df.append(ntries)\n",
    "        \n",
    "    return ME_df, QE_df, p_df, M_df"
   ]
  },
  {
   "cell_type": "code",
   "execution_count": null,
   "id": "00968426",
   "metadata": {},
   "outputs": [],
   "source": []
  },
  {
   "cell_type": "code",
   "execution_count": 5,
   "id": "395d90b7",
   "metadata": {},
   "outputs": [],
   "source": [
    "N = 2\n",
    "#M = 100/N\n",
    "\n",
    "n = 2\n",
    "\n",
    "QA1 = 100\n",
    "QA2 = 0\n",
    "\n",
    "QB1 = 0\n",
    "QB2 = 100\n",
    "\n",
    "QA_0 = np.array([QA1, QA2])\n",
    "QB_0 = np.array([QB1, QB2])\n",
    "\n",
    "QA = np.copy(QA_0)\n",
    "QB = np.copy(QB_0)\n",
    "\n",
    "DA = np.array([0, 50]).copy()\n",
    "DB = np.array([50, 0]).copy()\n",
    "\n",
    "cg = np.array([1, 1])\n",
    "\n",
    "p1buy_A_0, p2buy_A_0 = 10,10\n",
    "p1sell_A_0, p2sell_A_0 = 10,10\n",
    "\n",
    "p1buy_B_0, p2buy_B_0 = 10,10\n",
    "p1sell_B_0, p2sell_B_0 = 10,10"
   ]
  },
  {
   "cell_type": "code",
   "execution_count": null,
   "id": "42e87c0f",
   "metadata": {},
   "outputs": [],
   "source": []
  },
  {
   "cell_type": "code",
   "execution_count": 6,
   "id": "580edd24",
   "metadata": {},
   "outputs": [],
   "source": [
    "verbose = False\n",
    "\n",
    "alpha = 0.1\n",
    "beta = 0.1\n",
    "\n",
    "gamma = 1.00\n",
    "epsilon = 0.00\n",
    "max_agent_tries = 100\n",
    "max_tries = N*max_agent_tries\n",
    "price_adjust_method = 'uniform'\n",
    "min_price = 1e-5\n",
    "\n"
   ]
  },
  {
   "cell_type": "code",
   "execution_count": 7,
   "id": "0a223755",
   "metadata": {},
   "outputs": [],
   "source": [
    "alpha_list = np.logspace(-3, 1, 10)\n",
    "\n",
    "M_list = np.logspace(-1, 3, 50)\n"
   ]
  },
  {
   "cell_type": "code",
   "execution_count": null,
   "id": "fc92a3da",
   "metadata": {},
   "outputs": [],
   "source": []
  },
  {
   "cell_type": "code",
   "execution_count": 8,
   "id": "f5c72989",
   "metadata": {},
   "outputs": [
    {
     "name": "stderr",
     "output_type": "stream",
     "text": [
      "C:\\Users\\Alex\\Documents\\Research\\EconoNet\\v1\\Markets.py:244: RuntimeWarning: invalid value encountered in scalar divide\n",
      "  _m = _P/_n\n",
      "C:\\Users\\Alex\\AppData\\Local\\Temp\\ipykernel_9532\\175812412.py:28: RuntimeWarning: invalid value encountered in divide\n",
      "  p = ME_df/QE_df\n",
      "C:\\Users\\Alex\\Documents\\Research\\EconoNet\\v1\\Markets.py:419: RuntimeWarning: invalid value encountered in divide\n",
      "  avg_price = self.monetary_exchanged/self.quantity_exchanged\n"
     ]
    }
   ],
   "source": [
    "T = 200 #200\n",
    "\n",
    "price_df = np.zeros((len(M_list), 3))\n",
    "\n",
    "for row_index, Mtot in enumerate(M_list):\n",
    "    \n",
    "    M = Mtot/N\n",
    "    \n",
    "    agent_list = [Agents.Agent(np.copy(QA_0), DA, M, n_actions=1, input_dims=[1]),\n",
    "                  Agents.Agent(np.copy(QB_0), DB, M, n_actions=1, input_dims=[1])] \n",
    "\n",
    "    ExchangeDict = {agent_list[0]: 2, agent_list[1]: 2}\n",
    "\n",
    "    market = Markets.Market(n, \n",
    "                        verbose=verbose, \n",
    "                        minimum_price=min_price, \n",
    "                        alpha=alpha, \n",
    "                        beta=beta, \n",
    "                        gamma=gamma, \n",
    "                        epsilon=epsilon, \n",
    "                        max_agent_tries=max_agent_tries, \n",
    "                        max_tries=max_tries,\n",
    "                        price_adjust_method=price_adjust_method)\n",
    "\n",
    "\n",
    "    ME_df, QE_df, _, M_df = run_simulation(T)\n",
    "\n",
    "    p = ME_df/QE_df\n",
    "    p = np.nanmean(p, axis=0)\n",
    "\n",
    "    price_df[row_index, 0] = Mtot\n",
    "    price_df[row_index, 1:] = p"
   ]
  },
  {
   "cell_type": "code",
   "execution_count": 9,
   "id": "84759952",
   "metadata": {},
   "outputs": [],
   "source": [
    "#price_df"
   ]
  },
  {
   "cell_type": "code",
   "execution_count": 15,
   "id": "5c524f19",
   "metadata": {},
   "outputs": [
    {
     "data": {
      "image/png": "[encoded data removed]",
      "text/plain": [
       "<Figure size 640x480 with 1 Axes>"
      ]
     },
     "metadata": {},
     "output_type": "display_data"
    }
   ],
   "source": [
    "f, ax = plt.subplots()\n",
    "\n",
    "#ax.plot(price_df[:,0], price_df[:, 0], c='k', ls='--')\n",
    "\n",
    "for i in [1,2]:\n",
    "    ax.plot(price_df[:,0], price_df[:, i], label=f'$p_{i}$')\n",
    "\n",
    "ax.set_xscale('log')\n",
    "ax.set_yscale('log')\n",
    "\n",
    "ax.set_xlabel('$M$')\n",
    "ax.set_ylabel('$p$')\n",
    "ax.legend()\n",
    "\n",
    "ax.set_xlim(1e-1, 1e3)\n",
    "ax.set_ylim(1e-1, 1e3)\n",
    "\n",
    "plt.show()\n",
    "    "
   ]
  },
  {
   "cell_type": "code",
   "execution_count": 11,
   "id": "72c9a50f",
   "metadata": {},
   "outputs": [
    {
     "data": {
      "text/plain": [
       "array([[1.00000000e-01, 5.09750421e-02, 5.05896688e-02],\n",
       "       [1.20679264e-01, 6.03863815e-02, 6.08773399e-02],\n",
       "       [1.45634848e-01, 7.35361775e-02, 7.31000088e-02],\n",
       "       [1.75751062e-01, 8.85482802e-02, 8.80722539e-02],\n",
       "       [2.12095089e-01, 1.06913997e-01, 1.06379698e-01],\n",
       "       [2.55954792e-01, 1.28326204e-01, 1.26868902e-01],\n",
       "       [3.08884360e-01, 1.54780484e-01, 1.53368818e-01],\n",
       "       [3.72759372e-01, 1.86918800e-01, 1.86831963e-01],\n",
       "       [4.49843267e-01, 2.25870062e-01, 2.28758997e-01],\n",
       "       [5.42867544e-01, 2.69875547e-01, 2.75278790e-01],\n",
       "       [6.55128557e-01, 3.28278156e-01, 3.28626682e-01],\n",
       "       [7.90604321e-01, 4.00429188e-01, 4.01884055e-01],\n",
       "       [9.54095476e-01, 4.79107361e-01, 4.82368403e-01],\n",
       "       [1.15139540e+00, 5.82270119e-01, 5.79742713e-01],\n",
       "       [1.38949549e+00, 7.05321921e-01, 7.01120453e-01],\n",
       "       [1.67683294e+00, 8.51026040e-01, 8.47968196e-01],\n",
       "       [2.02358965e+00, 1.02271176e+00, 1.00773960e+00],\n",
       "       [2.44205309e+00, 1.23470231e+00, 1.22586780e+00],\n",
       "       [2.94705170e+00, 1.49096159e+00, 1.47251372e+00],\n",
       "       [3.55648031e+00, 1.79023352e+00, 1.78232360e+00],\n",
       "       [4.29193426e+00, 2.17721276e+00, 2.16011252e+00],\n",
       "       [5.17947468e+00, 2.60494804e+00, 2.58891887e+00],\n",
       "       [6.25055193e+00, 3.13588618e+00, 3.12101507e+00],\n",
       "       [7.54312006e+00, 3.80858803e+00, 3.79937371e+00],\n",
       "       [9.10298178e+00, 4.56192199e+00, 4.60406808e+00],\n",
       "       [1.09854114e+01, 5.57768133e+00, 5.49596813e+00],\n",
       "       [1.32571137e+01, 6.64809082e+00, 6.74453458e+00],\n",
       "       [1.59985872e+01, 8.18818102e+00, 8.05115439e+00],\n",
       "       [1.93069773e+01, 9.80875566e+00, 9.79529644e+00],\n",
       "       [2.32995181e+01, 1.16936117e+01, 1.16231805e+01],\n",
       "       [2.81176870e+01, 1.40078175e+01, 1.41311277e+01],\n",
       "       [3.39322177e+01, 1.71548248e+01, 1.70461567e+01],\n",
       "       [4.09491506e+01, 2.05829796e+01, 2.05563954e+01],\n",
       "       [4.94171336e+01, 2.49001717e+01, 2.49381770e+01],\n",
       "       [5.96362332e+01, 3.01857319e+01, 3.00215906e+01],\n",
       "       [7.19685673e+01, 3.60436605e+01, 3.61152092e+01],\n",
       "       [8.68511374e+01, 4.39194682e+01, 4.39025942e+01],\n",
       "       [1.04811313e+02, 5.29617722e+01, 5.25933769e+01],\n",
       "       [1.26485522e+02, 6.34336160e+01, 6.39040217e+01],\n",
       "       [1.52641797e+02, 7.72013950e+01, 7.68707635e+01],\n",
       "       [1.84206997e+02, 9.31763655e+01, 9.23189830e+01],\n",
       "       [2.22299648e+02, 1.13759028e+02, 1.11887630e+02],\n",
       "       [2.68269580e+02, 1.35022805e+02, 1.35195419e+02],\n",
       "       [3.23745754e+02, 1.64822702e+02, 1.60609407e+02],\n",
       "       [3.90693994e+02, 1.96888366e+02, 1.95316865e+02],\n",
       "       [4.71486636e+02, 2.37571717e+02, 2.35939182e+02],\n",
       "       [5.68986603e+02, 2.86096721e+02, 2.87547679e+02],\n",
       "       [6.86648845e+02, 3.42161797e+02, 3.48287993e+02],\n",
       "       [8.28642773e+02, 4.20871263e+02, 4.19415724e+02],\n",
       "       [1.00000000e+03, 5.11151744e+02, 5.03408360e+02]])"
      ]
     },
     "execution_count": 11,
     "metadata": {},
     "output_type": "execute_result"
    }
   ],
   "source": [
    "price_df"
   ]
  },
  {
   "cell_type": "code",
   "execution_count": 12,
   "id": "f02e3b01",
   "metadata": {},
   "outputs": [
    {
     "ename": "AssertionError",
     "evalue": "",
     "output_type": "error",
     "traceback": [
      "\u001b[1;31m---------------------------------------------------------------------------\u001b[0m",
      "\u001b[1;31mAssertionError\u001b[0m                            Traceback (most recent call last)",
      "Cell \u001b[1;32mIn[12], line 1\u001b[0m\n\u001b[1;32m----> 1\u001b[0m \u001b[38;5;28;01massert\u001b[39;00m \u001b[38;5;28;01mFalse\u001b[39;00m\n",
      "\u001b[1;31mAssertionError\u001b[0m: "
     ]
    }
   ],
   "source": [
    "assert False"
   ]
  },
  {
   "cell_type": "code",
   "execution_count": null,
   "id": "b846728e",
   "metadata": {
    "scrolled": true
   },
   "outputs": [],
   "source": [
    "\n",
    "\n",
    "\n"
   ]
  },
  {
   "cell_type": "code",
   "execution_count": null,
   "id": "1f5268e3",
   "metadata": {},
   "outputs": [],
   "source": [
    "\n"
   ]
  },
  {
   "cell_type": "code",
   "execution_count": null,
   "id": "0b13cbb6",
   "metadata": {},
   "outputs": [],
   "source": [
    "plt.rcParams['figure.dpi'] = 100"
   ]
  },
  {
   "cell_type": "code",
   "execution_count": null,
   "id": "4ea9ea84",
   "metadata": {},
   "outputs": [],
   "source": [
    "plot_market(0, log=True)"
   ]
  },
  {
   "cell_type": "code",
   "execution_count": null,
   "id": "2050c282",
   "metadata": {},
   "outputs": [],
   "source": [
    "plot_market(1, log=True)"
   ]
  },
  {
   "cell_type": "code",
   "execution_count": null,
   "id": "fe13a05f",
   "metadata": {},
   "outputs": [],
   "source": [
    "plot_prices(p_df, 0, log=True, includeM=True)"
   ]
  },
  {
   "cell_type": "code",
   "execution_count": null,
   "id": "87baf7f8",
   "metadata": {},
   "outputs": [],
   "source": [
    "plot_quantities(Q_df, D_df, 0)"
   ]
  },
  {
   "cell_type": "code",
   "execution_count": null,
   "id": "65cb68d6",
   "metadata": {},
   "outputs": [],
   "source": [
    "plot_prices(p_df, 1, log=True, includeM=True)\n",
    "#plt.grid()"
   ]
  },
  {
   "cell_type": "code",
   "execution_count": null,
   "id": "8fd54110",
   "metadata": {},
   "outputs": [],
   "source": [
    "plot_quantities(Q_df, D_df, 1)"
   ]
  },
  {
   "cell_type": "markdown",
   "id": "dd0aaf12",
   "metadata": {},
   "source": [
    "This scheme won't work when the price is zero. \n",
    "\n",
    "Because $p' = p_0 (1+\\alpha)$ will equal zero when $p_0$ is zero"
   ]
  },
  {
   "cell_type": "code",
   "execution_count": null,
   "id": "6c9792a9",
   "metadata": {},
   "outputs": [],
   "source": [
    "QA_0"
   ]
  },
  {
   "cell_type": "code",
   "execution_count": null,
   "id": "62cf2771",
   "metadata": {},
   "outputs": [],
   "source": [
    "Q"
   ]
  }
 ],
 "metadata": {
  "kernelspec": {
   "display_name": "Python 3 (ipykernel)",
   "language": "python",
   "name": "python3"
  },
  "language_info": {
   "codemirror_mode": {
    "name": "ipython",
    "version": 3
   },
   "file_extension": ".py",
   "mimetype": "text/x-python",
   "name": "python",
   "nbconvert_exporter": "python",
   "pygments_lexer": "ipython3",
   "version": "3.10.12"
  }
 },
 "nbformat": 4,
 "nbformat_minor": 5
}
