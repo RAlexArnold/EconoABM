{
 "cells": [
  {
   "cell_type": "code",
   "execution_count": 1,
   "id": "ee3bcf47",
   "metadata": {},
   "outputs": [],
   "source": [
    "import Agents\n",
    "import Markets\n",
    "\n",
    "import numpy as np\n",
    "import seaborn as sns\n",
    "import matplotlib.pyplot as plt\n",
    "import scipy.stats\n",
    "\n",
    "def add_price_data(df, t):\n",
    "    \n",
    "    pA_buy, pA_sell, pB_buy, pB_sell = df\n",
    "\n",
    "    pA_buy[t] = agent_list[0].p_buy\n",
    "    pA_sell[t] = agent_list[0].p_sell\n",
    "\n",
    "    pB_buy[t] = agent_list[1].p_buy\n",
    "    pB_sell[t] = agent_list[1].p_sell\n",
    "\n"
   ]
  },
  {
   "cell_type": "code",
   "execution_count": 2,
   "id": "cb0509a1",
   "metadata": {},
   "outputs": [],
   "source": [
    "def add_quant_data(df, t):\n",
    "\n",
    "    QA_df, QB_df = df\n",
    "\n",
    "    QA_df[t] = agent_list[0].Q\n",
    "    QB_df[t] = agent_list[1].Q\n",
    "    \n",
    "    #print(agent_list[0].Q)\n",
    "    \n",
    "def add_deficit_data(df, t):\n",
    "\n",
    "    DA_df, DB_df = df\n",
    "\n",
    "    DA_df[t] = agent_list[0].D\n",
    "    DB_df[t] = agent_list[1].D\n",
    "    \n",
    "def add_money_data(M_df, t):\n",
    "    \n",
    "    M_df[t,0] = agent_list[0].M\n",
    "    M_df[t,1] = agent_list[1].M\n",
    "    \n",
    "def reset():\n",
    "    \n",
    "    agent_list[0].Q = QA\n",
    "    agent_list[0].D = DA\n",
    "    agent_list[1].Q = QB\n",
    "    agent_list[1].D = DB\n",
    "    \n",
    "    market.reset()\n",
    "    \n",
    "    agent_list[0].p_buy = [p1buy_A_0, p2buy_A_0]#np.random.uniform(M, size=n) #[15, 10]\n",
    "    agent_list[0].p_sell = [p1sell_A_0, p2sell_A_0]#np.random.uniform(M, size=n) #[25, 30]\n",
    "\n",
    "    agent_list[1].p_buy = [p1buy_B_0, p2buy_B_0]#np.random.uniform(M, size=n) #[10, 15]\n",
    "    agent_list[1].p_sell = [p1sell_B_0, p2sell_B_0]#np.random.uniform(M, size=n) #[30, 25]"
   ]
  },
  {
   "cell_type": "code",
   "execution_count": 3,
   "id": "9456eca3",
   "metadata": {},
   "outputs": [],
   "source": [
    "def plot_market(i, *, ps=10, log=False):\n",
    "\n",
    "    f, ax = plt.subplots(1, figsize=(10,4)) #(2,1)\n",
    "\n",
    "    ax.plot(ME_df[:,i], c='C0', label=f'$\\Delta M_{i}$')\n",
    "    ax.plot(QE_df[:,i], c='C1', label=f'$\\Delta Q_{i}$')\n",
    "    ax.plot(ntries_df, c='k', label='Tries', lw='0.5')\n",
    "\n",
    "    p = ME_df[:,i]/QE_df[:,i]\n",
    "    ax.scatter(np.arange(0,T), p, c='g', label='f$p_{i}$', s=ps)\n",
    "\n",
    "    ax.legend()\n",
    "    \n",
    "    if log:\n",
    "        plt.yscale('log')\n",
    "        \n",
    "    plt.title(f'Market for Commodity {i}')\n",
    "    plt.xlabel('t')\n",
    "    plt.ylabel('$M$, $Q$')\n",
    "\n",
    "\n",
    "def plot_prices(p_df, i, *, ps=10, log=False, includeM=True):\n",
    "\n",
    "    'A sells i=0 and buys i=1, and vice versa for B'\n",
    "\n",
    "    if i == 0:\n",
    "        plt.plot(p_df[1][:,i], c='C0', ls='-.', label=f\"A's Selling Price for {i}\")\n",
    "        plt.plot(p_df[2][:,i], c='C1', ls='-', label=f\"B's Buying Price for {i}\")\n",
    "\n",
    "    elif i == 1:\n",
    "        plt.plot(p_df[0][:,i], c='C0', ls='-', label=f\"A's Buying Price for {i}\")\n",
    "        plt.plot(p_df[3][:,i], c='C1', ls='-.', label=f\"B's Selling Price for {i}\")\n",
    "\n",
    "    if includeM:\n",
    "        plt.plot(M_df[:,0], c='C0', ls=':', lw=0.5, label=f'$M_A$')\n",
    "        plt.plot(M_df[:,1], c='C1', ls=':', lw=0.5, label=f'$M_B$')\n",
    "    \n",
    "    p = ME_df[:,i]/QE_df[:,i]\n",
    "    plt.scatter(np.arange(T)+0.5, p, c='g', s=ps)\n",
    "    \n",
    "    plt.legend()\n",
    "    \n",
    "    if log:\n",
    "        plt.yscale('log')\n",
    "\n",
    "    plt.title(f'Market Prices for Commodity {i}')\n",
    "    plt.xlabel('t')\n",
    "    plt.ylabel('Prices')\n",
    "    \n",
    "def plot_quantities(Q_df, D_df, i):\n",
    "\n",
    "    plt.plot(Q_df[0][:,i], c='C0', ls='-', label=f\"A's Q{i}\")\n",
    "    plt.plot(D_df[0][:,i], c='C0', ls=':', label=f\"A's D{i}\")\n",
    "\n",
    "    plt.plot(Q_df[1][:,i], c='C1', ls='-', label=f\"B's Q{i}\")\n",
    "    plt.plot(D_df[1][:,i], c='C1', ls=':', label=f\"B's D{i}\")\n",
    "\n",
    "    plt.legend()\n",
    "\n",
    "    plt.title(f'Quantities for Commodity {i}')\n",
    "    plt.xlabel('t')\n",
    "    plt.ylabel('Q,D')\n"
   ]
  },
  {
   "cell_type": "code",
   "execution_count": 4,
   "id": "71fc7879",
   "metadata": {},
   "outputs": [],
   "source": [
    "def run_simulation(T):\n",
    "\n",
    "    reset()\n",
    "\n",
    "\n",
    "    # Setup data\n",
    "    pA_buy, pA_sell, pB_buy, pB_sell = np.zeros((T, 2)), np.zeros((T, 2)), np.zeros((T, 2)), np.zeros((T, 2))\n",
    "    p_df = (pA_buy, pA_sell, pB_buy, pB_sell)\n",
    "\n",
    "    QA_df, QB_df = np.zeros((T, 2)), np.zeros((T, 2))\n",
    "    Q_df = (QA_df, QB_df)\n",
    "\n",
    "    DA_df, DB_df = np.zeros((T, 2)), np.zeros((T, 2))\n",
    "    D_df = (DA_df, DB_df)\n",
    "\n",
    "    M_df = np.zeros((T,2))\n",
    "\n",
    "    ME_df = np.zeros((T,2))\n",
    "    QE_df = np.zeros((T,2))\n",
    "    sE_df = np.zeros((T,2))\n",
    "    ntries_df = []\n",
    "\n",
    "\n",
    "    add_price_data(p_df, 0)\n",
    "    add_quant_data(Q_df, 0)\n",
    "    add_deficit_data(D_df, 0)\n",
    "    add_money_data(M_df, 0)\n",
    "\n",
    "    # Run market\n",
    "    for t in range(T-1):\n",
    "\n",
    "        # Market action occurs at half-time interval\n",
    "        ME, QE, stn_dev, ntries = market.run_exchange(ExchangeDict)\n",
    "\n",
    "        # Reset quantities\n",
    "        agent_list[0].Q = np.array([QA1, QA2]) #QA_0 #*np.exp(-0.1*t)\n",
    "        agent_list[1].Q = np.array([QB1, QB2]) #QB_0 #*np.exp(-0.1*t)\n",
    "        #agent_list[0].D = DA.copy()#*t\n",
    "        #agent_list[1].D = DB.copy()*t\n",
    "\n",
    "        #print(QA, agent_list[0].Q)\n",
    "\n",
    "        add_price_data(p_df, t+1)\n",
    "        add_quant_data(Q_df, t+1)\n",
    "        add_deficit_data(D_df, t+1)\n",
    "        add_money_data(M_df, t+1)\n",
    "\n",
    "        # Market action occurs at half-time interval\n",
    "        ME_df[t] = ME\n",
    "        QE_df[t] = QE\n",
    "        sE_df[t] = stn_dev\n",
    "        ntries_df.append(ntries)\n",
    "        \n",
    "    return ME_df, QE_df, p_df, M_df"
   ]
  },
  {
   "cell_type": "code",
   "execution_count": null,
   "id": "00968426",
   "metadata": {},
   "outputs": [],
   "source": []
  },
  {
   "cell_type": "code",
   "execution_count": 5,
   "id": "395d90b7",
   "metadata": {},
   "outputs": [],
   "source": [
    "N = 2\n",
    "#M = 100/N\n",
    "\n",
    "n = 2\n",
    "\n",
    "QA1 = 100\n",
    "QA2 = 0\n",
    "\n",
    "QB1 = 0\n",
    "QB2 = 100\n",
    "\n",
    "QA_0 = np.array([QA1, QA2])\n",
    "QB_0 = np.array([QB1, QB2])\n",
    "\n",
    "QA = np.copy(QA_0)\n",
    "QB = np.copy(QB_0)\n",
    "\n",
    "DA = np.array([0, 50]).copy()\n",
    "DB = np.array([50, 0]).copy()\n",
    "\n",
    "cg = np.array([1, 1])\n",
    "\n",
    "p1buy_A_0, p2buy_A_0 = 10,10\n",
    "p1sell_A_0, p2sell_A_0 = 10,10\n",
    "\n",
    "p1buy_B_0, p2buy_B_0 = 10,10\n",
    "p1sell_B_0, p2sell_B_0 = 10,10"
   ]
  },
  {
   "cell_type": "code",
   "execution_count": null,
   "id": "42e87c0f",
   "metadata": {},
   "outputs": [],
   "source": []
  },
  {
   "cell_type": "code",
   "execution_count": 6,
   "id": "580edd24",
   "metadata": {},
   "outputs": [],
   "source": [
    "verbose = False\n",
    "\n",
    "alpha = 0.1\n",
    "beta = 0.1\n",
    "\n",
    "gamma = 1.00\n",
    "epsilon = 0.00\n",
    "max_agent_tries = 100\n",
    "max_tries = N*max_agent_tries\n",
    "price_adjust_method = 'step_random'\n",
    "min_price = 1e-5\n",
    "\n"
   ]
  },
  {
   "cell_type": "code",
   "execution_count": 7,
   "id": "0a223755",
   "metadata": {},
   "outputs": [],
   "source": [
    "alpha_list = np.logspace(-3, 1, 10)\n",
    "\n",
    "M_list = np.logspace(-1, 3, 50)\n"
   ]
  },
  {
   "cell_type": "code",
   "execution_count": null,
   "id": "6d0ff544",
   "metadata": {},
   "outputs": [],
   "source": []
  },
  {
   "cell_type": "code",
   "execution_count": 8,
   "id": "f5c72989",
   "metadata": {},
   "outputs": [
    {
     "name": "stderr",
     "output_type": "stream",
     "text": [
      "C:\\Users\\Alex\\Documents\\Research\\EconoNet\\v1\\Markets.py:419: RuntimeWarning: invalid value encountered in divide\n",
      "  avg_price = self.monetary_exchanged/self.quantity_exchanged\n",
      "C:\\Users\\Alex\\Documents\\Research\\EconoNet\\v1\\Markets.py:244: RuntimeWarning: invalid value encountered in scalar divide\n",
      "  _m = _P/_n\n",
      "C:\\Users\\Alex\\AppData\\Local\\Temp\\ipykernel_6500\\175812412.py:28: RuntimeWarning: invalid value encountered in divide\n",
      "  p = ME_df/QE_df\n"
     ]
    }
   ],
   "source": [
    "T = 200 #200\n",
    "\n",
    "price_df = np.zeros((len(M_list), 3))\n",
    "\n",
    "for row_index, Mtot in enumerate(M_list):\n",
    "    \n",
    "    M = Mtot/N\n",
    "    \n",
    "    agent_list = [Agents.Agent(np.copy(QA_0), DA, M, n_actions=1, input_dims=[1]),\n",
    "                  Agents.Agent(np.copy(QB_0), DB, M, n_actions=1, input_dims=[1])] \n",
    "\n",
    "    ExchangeDict = {agent_list[0]: 2, agent_list[1]: 2}\n",
    "\n",
    "    market = Markets.Market(n, \n",
    "                        verbose=verbose, \n",
    "                        minimum_price=min_price, \n",
    "                        alpha=alpha, \n",
    "                        beta=beta, \n",
    "                        gamma=gamma, \n",
    "                        epsilon=epsilon, \n",
    "                        max_agent_tries=max_agent_tries, \n",
    "                        max_tries=max_tries,\n",
    "                        price_adjust_method=price_adjust_method)\n",
    "\n",
    "\n",
    "    ME_df, QE_df, _, M_df = run_simulation(T)\n",
    "\n",
    "    p = ME_df/QE_df\n",
    "    p = np.nanmean(p, axis=0)\n",
    "\n",
    "    price_df[row_index, 0] = Mtot\n",
    "    price_df[row_index, 1:] = p"
   ]
  },
  {
   "cell_type": "code",
   "execution_count": 9,
   "id": "2c993e4d",
   "metadata": {},
   "outputs": [],
   "source": [
    "#price_df"
   ]
  },
  {
   "cell_type": "code",
   "execution_count": 16,
   "id": "5c524f19",
   "metadata": {},
   "outputs": [
    {
     "data": {
      "image/png": "[encoded data removed]",
      "text/plain": [
       "<Figure size 640x480 with 1 Axes>"
      ]
     },
     "metadata": {},
     "output_type": "display_data"
    }
   ],
   "source": [
    "f, ax = plt.subplots()\n",
    "\n",
    "#ax.plot(price_df[:,0], price_df[:, 0], c='k', ls='--')\n",
    "\n",
    "for i in [1,2]:\n",
    "    ax.plot(price_df[:,0], price_df[:, i], label=f'$p_{i}$')\n",
    "\n",
    "ax.set_xscale('log')\n",
    "ax.set_yscale('log')\n",
    "\n",
    "ax.set_xlabel('$M$')\n",
    "ax.set_ylabel('$p$')\n",
    "ax.legend()\n",
    "\n",
    "ax.set_xlim(1e-1, 1e3)\n",
    "ax.set_ylim(1e-2, 1e1)\n",
    "\n",
    "plt.show()\n",
    "    "
   ]
  },
  {
   "cell_type": "code",
   "execution_count": 11,
   "id": "72c9a50f",
   "metadata": {},
   "outputs": [
    {
     "data": {
      "text/plain": [
       "array([[1.00000000e-01, 1.96830200e-02, 1.93697665e-02],\n",
       "       [1.20679264e-01, 2.48192020e-02, 2.49200885e-02],\n",
       "       [1.45634848e-01, 2.97614880e-02, 2.91493139e-02],\n",
       "       [1.75751062e-01, 3.35786082e-02, 3.37747162e-02],\n",
       "       [2.12095089e-01, 3.97543029e-02, 3.92021736e-02],\n",
       "       [2.55954792e-01, 4.46261197e-02, 4.44165053e-02],\n",
       "       [3.08884360e-01, 4.83455377e-02, 4.80483773e-02],\n",
       "       [3.72759372e-01, 5.40428426e-02, 5.46118875e-02],\n",
       "       [4.49843267e-01, 5.71646802e-02, 5.88202301e-02],\n",
       "       [5.42867544e-01, 6.41328332e-02, 6.46163113e-02],\n",
       "       [6.55128557e-01, 6.78496438e-02, 7.03327098e-02],\n",
       "       [7.90604321e-01, 7.35995960e-02, 7.42728142e-02],\n",
       "       [9.54095476e-01, 7.84086676e-02, 7.78615898e-02],\n",
       "       [1.15139540e+00, 8.53426356e-02, 8.67469072e-02],\n",
       "       [1.38949549e+00, 9.33988953e-02, 8.87900832e-02],\n",
       "       [1.67683294e+00, 9.63273321e-02, 9.96916850e-02],\n",
       "       [2.02358965e+00, 1.01265619e-01, 1.08727182e-01],\n",
       "       [2.44205309e+00, 1.14070023e-01, 1.11832610e-01],\n",
       "       [2.94705170e+00, 1.28386439e-01, 1.20577077e-01],\n",
       "       [3.55648031e+00, 1.33274599e-01, 1.37993353e-01],\n",
       "       [4.29193426e+00, 1.40942185e-01, 1.40381118e-01],\n",
       "       [5.17947468e+00, 1.39813231e-01, 1.49855642e-01],\n",
       "       [6.25055193e+00, 1.65807048e-01, 1.52930714e-01],\n",
       "       [7.54312006e+00, 1.96578464e-01, 1.87072584e-01],\n",
       "       [9.10298178e+00, 1.97192963e-01, 2.04112425e-01],\n",
       "       [1.09854114e+01, 2.03706932e-01, 2.18735852e-01],\n",
       "       [1.32571137e+01, 2.24986092e-01, 2.18099973e-01],\n",
       "       [1.59985872e+01, 3.06071489e-01, 2.83039383e-01],\n",
       "       [1.93069773e+01, 3.16329152e-01, 2.99367512e-01],\n",
       "       [2.32995181e+01, 3.41202965e-01, 3.82209484e-01],\n",
       "       [2.81176870e+01, 3.28000296e-01, 3.41393539e-01],\n",
       "       [3.39322177e+01, 4.42718723e-01, 4.48472797e-01],\n",
       "       [4.09491506e+01, 5.12122912e-01, 5.06900872e-01],\n",
       "       [4.94171336e+01, 5.12220079e-01, 5.51667626e-01],\n",
       "       [5.96362332e+01, 4.53256867e-01, 4.62807050e-01],\n",
       "       [7.19685673e+01, 5.95523612e-01, 5.55493213e-01],\n",
       "       [8.68511374e+01, 5.98890032e-01, 5.81975718e-01],\n",
       "       [1.04811313e+02, 7.91409429e-01, 7.75421442e-01],\n",
       "       [1.26485522e+02, 8.43651928e-01, 8.39137264e-01],\n",
       "       [1.52641797e+02, 1.19963801e+00, 1.17063011e+00],\n",
       "       [1.84206997e+02, 1.00270779e+00, 1.02505263e+00],\n",
       "       [2.22299648e+02, 1.09531207e+00, 1.04822469e+00],\n",
       "       [2.68269580e+02, 2.01683884e+00, 2.13952950e+00],\n",
       "       [3.23745754e+02, 3.74777055e+00, 3.80000149e+00],\n",
       "       [3.90693994e+02, 1.37784207e+00, 1.46744058e+00],\n",
       "       [4.71486636e+02, 2.45508985e+00, 2.43097216e+00],\n",
       "       [5.68986603e+02, 2.63099750e+00, 2.69140406e+00],\n",
       "       [6.86648845e+02, 5.40409951e+00, 5.51461584e+00],\n",
       "       [8.28642773e+02, 5.48163697e+00, 5.61208224e+00],\n",
       "       [1.00000000e+03, 5.43154646e+00, 5.41066996e+00]])"
      ]
     },
     "execution_count": 11,
     "metadata": {},
     "output_type": "execute_result"
    }
   ],
   "source": [
    "price_df"
   ]
  },
  {
   "cell_type": "code",
   "execution_count": 12,
   "id": "f02e3b01",
   "metadata": {},
   "outputs": [
    {
     "ename": "AssertionError",
     "evalue": "",
     "output_type": "error",
     "traceback": [
      "\u001b[1;31m---------------------------------------------------------------------------\u001b[0m",
      "\u001b[1;31mAssertionError\u001b[0m                            Traceback (most recent call last)",
      "Cell \u001b[1;32mIn[12], line 1\u001b[0m\n\u001b[1;32m----> 1\u001b[0m \u001b[38;5;28;01massert\u001b[39;00m \u001b[38;5;28;01mFalse\u001b[39;00m\n",
      "\u001b[1;31mAssertionError\u001b[0m: "
     ]
    }
   ],
   "source": [
    "assert False"
   ]
  },
  {
   "cell_type": "code",
   "execution_count": null,
   "id": "b846728e",
   "metadata": {
    "scrolled": true
   },
   "outputs": [],
   "source": [
    "\n",
    "\n",
    "\n"
   ]
  },
  {
   "cell_type": "code",
   "execution_count": null,
   "id": "1f5268e3",
   "metadata": {},
   "outputs": [],
   "source": [
    "\n"
   ]
  },
  {
   "cell_type": "code",
   "execution_count": null,
   "id": "0b13cbb6",
   "metadata": {},
   "outputs": [],
   "source": [
    "plt.rcParams['figure.dpi'] = 100"
   ]
  },
  {
   "cell_type": "code",
   "execution_count": null,
   "id": "4ea9ea84",
   "metadata": {},
   "outputs": [],
   "source": [
    "plot_market(0, log=True)"
   ]
  },
  {
   "cell_type": "code",
   "execution_count": null,
   "id": "2050c282",
   "metadata": {},
   "outputs": [],
   "source": [
    "plot_market(1, log=True)"
   ]
  },
  {
   "cell_type": "code",
   "execution_count": null,
   "id": "fe13a05f",
   "metadata": {},
   "outputs": [],
   "source": [
    "plot_prices(p_df, 0, log=True, includeM=True)"
   ]
  },
  {
   "cell_type": "code",
   "execution_count": null,
   "id": "87baf7f8",
   "metadata": {},
   "outputs": [],
   "source": [
    "plot_quantities(Q_df, D_df, 0)"
   ]
  },
  {
   "cell_type": "code",
   "execution_count": null,
   "id": "65cb68d6",
   "metadata": {},
   "outputs": [],
   "source": [
    "plot_prices(p_df, 1, log=True, includeM=True)\n",
    "#plt.grid()"
   ]
  },
  {
   "cell_type": "code",
   "execution_count": null,
   "id": "8fd54110",
   "metadata": {},
   "outputs": [],
   "source": [
    "plot_quantities(Q_df, D_df, 1)"
   ]
  },
  {
   "cell_type": "markdown",
   "id": "dd0aaf12",
   "metadata": {},
   "source": [
    "This scheme won't work when the price is zero. \n",
    "\n",
    "Because $p' = p_0 (1+\\alpha)$ will equal zero when $p_0$ is zero"
   ]
  },
  {
   "cell_type": "code",
   "execution_count": null,
   "id": "6c9792a9",
   "metadata": {},
   "outputs": [],
   "source": [
    "QA_0"
   ]
  },
  {
   "cell_type": "code",
   "execution_count": null,
   "id": "62cf2771",
   "metadata": {},
   "outputs": [],
   "source": [
    "Q"
   ]
  }
 ],
 "metadata": {
  "kernelspec": {
   "display_name": "Python 3 (ipykernel)",
   "language": "python",
   "name": "python3"
  },
  "language_info": {
   "codemirror_mode": {
    "name": "ipython",
    "version": 3
   },
   "file_extension": ".py",
   "mimetype": "text/x-python",
   "name": "python",
   "nbconvert_exporter": "python",
   "pygments_lexer": "ipython3",
   "version": "3.10.12"
  }
 },
 "nbformat": 4,
 "nbformat_minor": 5
}
