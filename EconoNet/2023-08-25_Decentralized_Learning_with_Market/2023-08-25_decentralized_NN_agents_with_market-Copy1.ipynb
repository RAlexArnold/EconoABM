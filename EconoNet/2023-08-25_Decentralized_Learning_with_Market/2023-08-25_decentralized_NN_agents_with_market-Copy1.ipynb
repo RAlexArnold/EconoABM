{
 "cells": [
  {
   "cell_type": "markdown",
   "id": "20961da2",
   "metadata": {},
   "source": [
    "Here, each agent has a specialized instrument of production. Either a sector 1 producer or sector 2 producer\n",
    "This should incentivize them to go to market since no single agent can produce all their own requirements.\n",
    "\n",
    "But we see the actions of the agents jump around and do not quite converge to anything.\n",
    "The null decision even has little spurts where it is attempted\n",
    "\n",
    "Now one possible explanation could be the following:\n",
    "\n",
    "The agents are all using a single NN.\n",
    "\n",
    "There is centralized learning and decentralized execution.\n",
    "\n",
    "The agents do not have an input state telling them of their instrument of production.\n",
    "\n",
    "So differing production policies are being trained on, and asked of, the single NN for all agents.\n",
    "\n",
    "Remember, each sector is a unique output of the NN.\n",
    "\n",
    "Adding a new input which is an agent index (agent ID) may help differentiate policies (each agent results in a unique input since each agent has a unique ID).\n",
    "\n",
    "Alternatively, including productivity inputs may be useful (if not already done?), but may get needlessly complicated. Because...\n",
    "\n",
    "Productivity has two aspects:\n",
    "    * A quantity of goods which make up the instruments of production (assumed to be 1, and not explicitly modeled here)\n",
    "    * A productivity matrix which maps labor sector inputs to product sector outputs.\n",
    "        "
   ]
  },
  {
   "cell_type": "code",
   "execution_count": 1,
   "id": "61390f56",
   "metadata": {},
   "outputs": [],
   "source": [
    "import time\n",
    "import seaborn as sns"
   ]
  },
  {
   "cell_type": "code",
   "execution_count": 2,
   "id": "150ce663",
   "metadata": {},
   "outputs": [],
   "source": [
    "import Agents"
   ]
  },
  {
   "cell_type": "code",
   "execution_count": null,
   "id": "fc073da5",
   "metadata": {},
   "outputs": [],
   "source": []
  },
  {
   "cell_type": "code",
   "execution_count": null,
   "id": "3566b21b",
   "metadata": {},
   "outputs": [],
   "source": []
  },
  {
   "cell_type": "code",
   "execution_count": null,
   "id": "b5cebc5d",
   "metadata": {},
   "outputs": [],
   "source": []
  },
  {
   "cell_type": "code",
   "execution_count": 3,
   "id": "d77e2bd0",
   "metadata": {},
   "outputs": [],
   "source": [
    "import Agents\n",
    "import Instruments\n",
    "import Markets\n",
    "\n",
    "import Simulate\n",
    "import Environment\n",
    "\n",
    "\n",
    "import SimPlotting\n",
    "\n",
    "import numpy as np\n",
    "from scipy.stats import norm, uniform\n",
    "import random\n",
    "\n",
    "import matplotlib.pyplot as plt"
   ]
  },
  {
   "cell_type": "code",
   "execution_count": 4,
   "id": "d1505e42",
   "metadata": {},
   "outputs": [],
   "source": [
    "\n",
    "def initialize_instruments(Nins_1, Nins_2, means, stds):\n",
    "\n",
    "    instruments = []\n",
    "\n",
    "    #means = mean_productivities\n",
    "    #stds = std_productivities\n",
    "\n",
    "    for N in range(Nins_1):\n",
    "        instrument = Instruments.Universal([means[0], 0])\n",
    "        instruments.append(instrument)\n",
    "\n",
    "    for N in range(Nins_2):\n",
    "        instrument = Instruments.Universal([0, means[1]])\n",
    "        instruments.append(instrument)\n",
    "        \n",
    "    return instruments\n",
    "\n",
    "    \n",
    "    "
   ]
  },
  {
   "cell_type": "code",
   "execution_count": 5,
   "id": "b5657aab",
   "metadata": {},
   "outputs": [],
   "source": [
    "#Instruments.Universal([0,1]).matrix"
   ]
  },
  {
   "cell_type": "code",
   "execution_count": 6,
   "id": "1b9e0bba",
   "metadata": {},
   "outputs": [],
   "source": [
    "def initialize_agents(initial_parameters, learning_parameters) -> list:\n",
    "    \n",
    "    kwargs = {**initial_parameters, **learning_parameters}\n",
    "    \n",
    "    \n",
    "    Agent_list = [Agents.Agent(**kwargs) for i in range(Nagents)]\n",
    "\n",
    "    return Agent_list\n",
    "   \n",
    "    #Agent_list = [Agents.Agent(QNN=qnn, **initial_parameters, Q=np.random.random(2)*10) for i in range(Nagents)]\n",
    "\n",
    "    #Agent_list = [Agents.Agent(QNN=qnn, **initial_parameters, Q=i%2*np.ones(2)*10.0) for i in range(Nagents)]\n",
    "    \n",
    "    #return Agent_list\n",
    "\n",
    "def _initialize_instruments(Ninstruments, means, stds):\n",
    "    '''\n",
    "    Assumes Normal. Initializes Universal Instruments.\n",
    "    \n",
    "    Make more general to incude different distributions'''\n",
    "\n",
    "    instruments = []\n",
    "\n",
    "    #means = mean_productivities\n",
    "    #stds = std_productivities\n",
    "\n",
    "    for N in range(Ninstruments):\n",
    "        prod_vec = [norm.rvs(loc=mean, scale=std) for mean, std in zip(means, stds)]\n",
    "        instrument = Instruments.Universal(prod_vec)\n",
    "        instruments.append(instrument)\n",
    "        \n",
    "    return instruments\n",
    "\n",
    "def initialize_allocation(agent_list, instrument_list):\n",
    "    \n",
    "    for agent in agent_list:\n",
    "        \n",
    "        random_instrument = random.choice(instrument_list)\n",
    "        instrument_list.remove(random_instrument)\n",
    "        \n",
    "        agent.Ins = random_instrument"
   ]
  },
  {
   "cell_type": "markdown",
   "id": "8c25773b",
   "metadata": {},
   "source": [
    "Initialize Parameters"
   ]
  },
  {
   "cell_type": "code",
   "execution_count": null,
   "id": "7f2cf9d4",
   "metadata": {},
   "outputs": [],
   "source": []
  },
  {
   "cell_type": "code",
   "execution_count": 7,
   "id": "f41a2fc4",
   "metadata": {},
   "outputs": [],
   "source": [
    "dt = 1\n",
    "\n",
    "cg = np.array([1.0, 1.0])\n",
    "\n",
    "Nproducts = cg.shape[0]\n",
    "\n",
    "Nagents = 2000\n",
    "\n",
    "Nactions = 3 + Nproducts # One production decision for each product + null + exchange + consume\n",
    "\n",
    "mean_productivities = [8, 5]\n",
    "std_productivities = [0, 0]\n",
    "\n",
    "Ninstruments = Nagents\n",
    "\n",
    "ratio = 0.5\n",
    "K1 = int(ratio*Ninstruments)\n",
    "\n"
   ]
  },
  {
   "cell_type": "code",
   "execution_count": 8,
   "id": "a23677e6",
   "metadata": {},
   "outputs": [],
   "source": [
    "initial_parameters = {\n",
    "    #'Q': np.random.random(Nproducts)*10,\n",
    "    'D': np.zeros(Nproducts), #np.ones(Nproducts)*2,\n",
    "    'cg': cg,\n",
    "     'M': 10.,\n",
    "    'n_actions': Nactions\n",
    "}\n",
    "\n",
    "learning_parameters = {\n",
    "    'gamma': 0.9,\n",
    "    #'gamma': 0.5,\n",
    "    #'gamma': 0.1,\n",
    "    'epsilon': 1.0,\n",
    "    'eps_end': 0.01,\n",
    "    'eps_dec': 0.01,\n",
    "    'batch_size': 100,\n",
    "    'input_dims': [3*Nproducts+1],\n",
    "    #'lr':0.001,\n",
    "    'lr': 0.005,\n",
    "    'n_actions':Nactions,\n",
    "}"
   ]
  },
  {
   "cell_type": "markdown",
   "id": "97dd8acd",
   "metadata": {},
   "source": [
    "Initialize Agents, Instruments, and Markets"
   ]
  },
  {
   "cell_type": "code",
   "execution_count": 9,
   "id": "8ab815f7",
   "metadata": {},
   "outputs": [],
   "source": [
    "agent_list = initialize_agents(initial_parameters, learning_parameters)\n",
    "for agent in agent_list:\n",
    "    agent.Q = np.random.random(Nproducts)*10\n",
    "\n",
    "\n",
    "instrument_list = initialize_instruments(K1, Ninstruments - K1, mean_productivities, std_productivities)\n",
    "market = Markets.SimpleMarket(Nproducts, max_tries = 1000)\n",
    "\n",
    "initialize_allocation(agent_list, instrument_list)\n",
    "\n",
    "# Randomize agent's initial endowments\n",
    "for agent in agent_list:\n",
    "    agent.Q = np.random.random(Nproducts)*10\n",
    "    agent.Q0 = agent.Q\n",
    "\n",
    "env = Environment.Environment(dt, agent_list, instrument_list, market)\n",
    "sim = Simulate.Simulate(env)"
   ]
  },
  {
   "cell_type": "code",
   "execution_count": 10,
   "id": "0d4f3592",
   "metadata": {},
   "outputs": [],
   "source": [
    "agent = agent_list[0]"
   ]
  },
  {
   "cell_type": "code",
   "execution_count": 11,
   "id": "7ec145c7",
   "metadata": {},
   "outputs": [
    {
     "data": {
      "text/plain": [
       "array([[8, 0],\n",
       "       [0, 0]])"
      ]
     },
     "execution_count": 11,
     "metadata": {},
     "output_type": "execute_result"
    }
   ],
   "source": [
    "agent.Ins.matrix"
   ]
  },
  {
   "cell_type": "code",
   "execution_count": 12,
   "id": "b0147044",
   "metadata": {},
   "outputs": [
    {
     "data": {
      "text/plain": [
       "array([5.95544297, 0.1157589 ])"
      ]
     },
     "execution_count": 12,
     "metadata": {},
     "output_type": "execute_result"
    }
   ],
   "source": [
    "agent.Q"
   ]
  },
  {
   "cell_type": "code",
   "execution_count": 13,
   "id": "4b8d95d3",
   "metadata": {},
   "outputs": [],
   "source": [
    "agent.reset()"
   ]
  },
  {
   "cell_type": "code",
   "execution_count": 14,
   "id": "879b5b48",
   "metadata": {},
   "outputs": [
    {
     "data": {
      "text/plain": [
       "array([5.95544297, 0.1157589 ])"
      ]
     },
     "execution_count": 14,
     "metadata": {},
     "output_type": "execute_result"
    }
   ],
   "source": [
    "agent.Q"
   ]
  },
  {
   "cell_type": "markdown",
   "id": "f8342b26",
   "metadata": {},
   "source": [
    "Run Simulation"
   ]
  },
  {
   "cell_type": "code",
   "execution_count": null,
   "id": "1dc51354",
   "metadata": {},
   "outputs": [
    {
     "name": "stderr",
     "output_type": "stream",
     "text": [
      "C:\\Users\\Alex\\Research\\EconoNet\\2023-08-25_Decentralized_Learning_with_Market\\Markets.py:176: RuntimeWarning: invalid value encountered in true_divide\n",
      "  price = self.monetary_exchanged/self.quantity_exchanged\n"
     ]
    }
   ],
   "source": [
    "Ntimes = 10000\n",
    "\n",
    "s = time.perf_counter()\n",
    "sim.run_simulation(Ntimes)\n",
    "e = time.perf_counter()\n",
    "\n",
    "print(e-s)\n",
    "print((e-s)/60.)\n",
    "print((e-s)/60./60.)"
   ]
  },
  {
   "cell_type": "code",
   "execution_count": null,
   "id": "4fb0ba1e",
   "metadata": {},
   "outputs": [],
   "source": [
    "agent = agent_list[0]\n",
    "\n",
    "agent.Q\n",
    "#sim.get_state(agent)"
   ]
  },
  {
   "cell_type": "markdown",
   "id": "e54ef320",
   "metadata": {},
   "source": [
    "Plot"
   ]
  },
  {
   "cell_type": "code",
   "execution_count": null,
   "id": "dc0678fe",
   "metadata": {},
   "outputs": [],
   "source": [
    "splt = SimPlotting.SimPlotting(sim)\n",
    "plt.rcParams['figure.dpi'] = 500"
   ]
  },
  {
   "cell_type": "code",
   "execution_count": null,
   "id": "b46d5968",
   "metadata": {},
   "outputs": [],
   "source": [
    "#splt.plotA(lw1=0.5)"
   ]
  },
  {
   "cell_type": "code",
   "execution_count": null,
   "id": "92fb47c1",
   "metadata": {},
   "outputs": [],
   "source": [
    "splt.plotA(lw1=0.5, lw2=0.05, ewm=True, alpha=0.01)"
   ]
  },
  {
   "cell_type": "code",
   "execution_count": null,
   "id": "65a937fa",
   "metadata": {},
   "outputs": [],
   "source": [
    "splt.plotQuantities(\n",
    "    lw1=0.3, \n",
    "    lw2=0.05, \n",
    "    xmax=10, \n",
    "    tight_layout=True, \n",
    "    Qlog=True, \n",
    "    Dlog=True, \n",
    "    qmin=0, \n",
    "    qmax=6, \n",
    "    cmin=0, \n",
    "    cmax=6,\n",
    "    Qmin = 1e-1,\n",
    "    Qmax=1e3,\n",
    "    Dmin=1e-1,\n",
    "    Dmax=1e3,\n",
    ")"
   ]
  },
  {
   "cell_type": "code",
   "execution_count": null,
   "id": "713978a3",
   "metadata": {
    "scrolled": false
   },
   "outputs": [],
   "source": [
    "splt.plotMarket(lw1=0.3, \n",
    "                lw2=0.05, \n",
    "                Mlog=True, \n",
    "                mNlog=True, \n",
    "                mMlog=True, \n",
    "                mElog=True, \n",
    "                plog=False)"
   ]
  },
  {
   "cell_type": "code",
   "execution_count": null,
   "id": "beb16a59",
   "metadata": {},
   "outputs": [],
   "source": [
    "#plt.plot(splt.trange, splt.mMarray[:,0])\n"
   ]
  },
  {
   "cell_type": "code",
   "execution_count": null,
   "id": "61db1891",
   "metadata": {},
   "outputs": [],
   "source": [
    "splt.plotPolicy(0)"
   ]
  },
  {
   "cell_type": "code",
   "execution_count": null,
   "id": "0f311b78",
   "metadata": {},
   "outputs": [],
   "source": [
    "splt.plotPolicy('L')"
   ]
  },
  {
   "cell_type": "code",
   "execution_count": null,
   "id": "97b12846",
   "metadata": {},
   "outputs": [],
   "source": [
    "splt.plotPolicy(1)"
   ]
  },
  {
   "cell_type": "code",
   "execution_count": null,
   "id": "5ad59488",
   "metadata": {},
   "outputs": [],
   "source": [
    "splt.plotPolicy(2)"
   ]
  },
  {
   "cell_type": "code",
   "execution_count": null,
   "id": "d9fa28ad",
   "metadata": {},
   "outputs": [],
   "source": [
    "splt.plotPolicy('C')"
   ]
  },
  {
   "cell_type": "code",
   "execution_count": null,
   "id": "557b3ef8",
   "metadata": {},
   "outputs": [],
   "source": [
    "splt.plotPolicy('E')"
   ]
  },
  {
   "cell_type": "code",
   "execution_count": null,
   "id": "7739cf7b",
   "metadata": {},
   "outputs": [],
   "source": []
  },
  {
   "cell_type": "code",
   "execution_count": null,
   "id": "6e472af8",
   "metadata": {},
   "outputs": [],
   "source": []
  },
  {
   "cell_type": "code",
   "execution_count": null,
   "id": "21075e50",
   "metadata": {},
   "outputs": [],
   "source": [
    "for i in range(Nproducts):\n",
    "\n",
    "    prob_Li = splt.action_probabilities()[i+1]\n",
    "    sum_del = prob_Li*Nagents\n",
    "    sum_q   = splt.qarray[:,i].sum(axis=1)\n",
    "\n",
    "    li = sum_del/sum_q\n",
    "    pi = splt.parray[:,i]\n",
    "\n",
    "    plt.scatter(li, pi, s=0.5)\n",
    "\n",
    "plt.xscale('log')\n",
    "plt.yscale('log')\n",
    "plt.xlabel('Direct Labor Coefficient $l_i$')\n",
    "plt.ylabel('Price $p_i$')\n"
   ]
  },
  {
   "cell_type": "code",
   "execution_count": null,
   "id": "fe368d13",
   "metadata": {},
   "outputs": [],
   "source": [
    "for i in range(Nproducts):\n",
    "\n",
    "    prob_Li = splt.action_probabilities()[i+1]\n",
    "    sum_del = prob_Li*Nagents\n",
    "    sum_q   = splt.qarray[:,i].sum(axis=1)\n",
    "\n",
    "    li = sum_del/sum_q\n",
    "    li = np.nanmean(li)\n",
    "    pi = splt.parray[:,i]\n",
    "\n",
    "    plt.axvline(li, label=f'$l_{i}$')\n",
    "    plt.hist(pi, bins=np.logspace(-6, 3,50), histtype='step', label=f'$p_{i}$')\n",
    "\n",
    "plt.xscale('log')\n",
    "plt.yscale('log')\n",
    "plt.xlabel('Value and Price')\n",
    "plt.ylabel('Price Count')\n",
    "plt.legend()\n"
   ]
  },
  {
   "cell_type": "code",
   "execution_count": null,
   "id": "f12e178a",
   "metadata": {},
   "outputs": [],
   "source": []
  },
  {
   "cell_type": "code",
   "execution_count": null,
   "id": "48c16075",
   "metadata": {},
   "outputs": [],
   "source": []
  }
 ],
 "metadata": {
  "kernelspec": {
   "display_name": "Python 3 (ipykernel)",
   "language": "python",
   "name": "python3"
  },
  "language_info": {
   "codemirror_mode": {
    "name": "ipython",
    "version": 3
   },
   "file_extension": ".py",
   "mimetype": "text/x-python",
   "name": "python",
   "nbconvert_exporter": "python",
   "pygments_lexer": "ipython3",
   "version": "3.9.13"
  }
 },
 "nbformat": 4,
 "nbformat_minor": 5
}
