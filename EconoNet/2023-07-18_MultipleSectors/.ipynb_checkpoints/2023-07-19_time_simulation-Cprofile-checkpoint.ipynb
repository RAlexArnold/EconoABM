{
 "cells": [
  {
   "cell_type": "markdown",
   "id": "d7e37426",
   "metadata": {},
   "source": [
    "At this point there are multiple agents. But they act indepdently. There is no distribution/exchange mechanism for the agents.\n",
    "\n",
    "Also, the product sector chosen by the agents is randomly selected after they choose to make the production decision. So division of labor will not be correct.\n",
    "\n",
    "Include each product sector as a unique action. Should also include sector productivity input for agent's Deep Q Network\n",
    "\n",
    "When agents can possess multiple instruments, will need to generalize or revisit the above."
   ]
  },
  {
   "cell_type": "code",
   "execution_count": 14,
   "id": "d77e2bd0",
   "metadata": {},
   "outputs": [],
   "source": [
    "import Agents\n",
    "import Instruments\n",
    "import Simulate\n",
    "import Environment\n",
    "import SimPlotting\n",
    "\n",
    "import numpy as np\n",
    "from scipy.stats import norm, uniform\n",
    "import random\n",
    "\n",
    "import time\n",
    "\n",
    "import matplotlib.pyplot as plt"
   ]
  },
  {
   "cell_type": "code",
   "execution_count": 15,
   "id": "1b9e0bba",
   "metadata": {},
   "outputs": [],
   "source": [
    "def initialize_agents(Nagents, initial_parameters, learning_parameters) -> list:\n",
    "\n",
    "    kwargs = {**initial_parameters, **learning_parameters}\n",
    "    \n",
    "    \n",
    "    Agent_list = [Agents.Agent(**kwargs) for i in range(Nagents)]\n",
    "\n",
    "    return Agent_list\n",
    "\n",
    "def initialize_instruments(Ninstruments, means, stds):\n",
    "    '''\n",
    "    Assumes Normal. Initializes Universal Instruments.\n",
    "    \n",
    "    Make more general to incude different distributions'''\n",
    "\n",
    "    instruments = []\n",
    "\n",
    "    for N in range(Ninstruments):\n",
    "        prod_vec = [norm.rvs(loc=mean, scale=std) for mean, std in zip(means, stds)]\n",
    "        instrument = Instruments.Universal(prod_vec)\n",
    "        instruments.append(instrument)\n",
    "        \n",
    "    return instruments\n",
    "\n",
    "def initialize_allocation(agent_list, instrument_list):\n",
    "    \n",
    "    for agent in agent_list:\n",
    "        \n",
    "        random_instrument = random.choice(instrument_list)\n",
    "        instrument_list.remove(random_instrument)\n",
    "        \n",
    "        agent.Ins = random_instrument\n",
    "        \n",
    "def main(Ntimes, Nagents):\n",
    "    \n",
    "    import Agents\n",
    "    import Instruments\n",
    "    import Simulate\n",
    "    import Environment\n",
    "    import SimPlotting\n",
    "\n",
    "    import numpy as np\n",
    "    from scipy.stats import norm, uniform\n",
    "    import random\n",
    "\n",
    "    import time\n",
    "\n",
    "    import matplotlib.pyplot as plt\n",
    "\n",
    "    dt = 1\n",
    "\n",
    "    cg = np.array([1.0, 1.0])\n",
    "\n",
    "    Nproducts = cg.shape[0]\n",
    "\n",
    "    Nactions = 3 + Nproducts # One production decision for each product + null + exchange + consume\n",
    "\n",
    "    mean_productivities = [5, 5]\n",
    "    std_productivities = [0, 0]\n",
    "\n",
    "    Ninstruments = Nagents\n",
    "\n",
    "    initial_parameters = {\n",
    "        'Q': np.zeros(Nproducts),\n",
    "        'D': np.zeros(Nproducts),\n",
    "        'cg': cg,\n",
    "         'M': 10.,\n",
    "    }\n",
    "\n",
    "    learning_parameters = {\n",
    "        'gamma': 0.9,\n",
    "        #'gamma': 0.5,\n",
    "        #'gamma': 0.1,\n",
    "        'epsilon': 1.0,\n",
    "        'eps_end': 0.001,\n",
    "        'eps_dec': 0.01,\n",
    "        #'batch_size': 100,\n",
    "        'batch_size': 10,\n",
    "        'input_dims': [3*Nproducts+1],\n",
    "        'lr':0.001,\n",
    "        #'lr': 0.01,\n",
    "        'n_actions': Nactions,\n",
    "    }\n",
    "\n",
    "    agent_list = initialize_agents(Nagents, initial_parameters, learning_parameters)\n",
    "    instrument_list = initialize_instruments(Ninstruments, mean_productivities, std_productivities)\n",
    "    market_list = [0]\n",
    "\n",
    "    initialize_allocation(agent_list, instrument_list)\n",
    "\n",
    "    env = Environment.Environment(dt, agent_list, instrument_list, market_list)\n",
    "    sim = Simulate.Simulate(env)\n",
    "\n",
    "    #start = time.perf_counter()\n",
    "    sim.run_simulation(Ntimes)\n",
    "    #end = time.perf_counter()\n",
    "\n",
    "    #elapsed_time = end-start\n",
    "\n",
    "    #return elapsed_time"
   ]
  },
  {
   "cell_type": "code",
   "execution_count": 16,
   "id": "c71ac920",
   "metadata": {},
   "outputs": [],
   "source": [
    "import cProfile"
   ]
  },
  {
   "cell_type": "code",
   "execution_count": 17,
   "id": "369591fa",
   "metadata": {},
   "outputs": [],
   "source": [
    "main(10,1)"
   ]
  },
  {
   "cell_type": "code",
   "execution_count": 18,
   "id": "b3ad24e7",
   "metadata": {
    "scrolled": false
   },
   "outputs": [],
   "source": [
    "cProfile.run('main(200,10)', 'restats')"
   ]
  },
  {
   "cell_type": "code",
   "execution_count": 19,
   "id": "00d803da",
   "metadata": {},
   "outputs": [],
   "source": [
    "import pstats\n",
    "from pstats import SortKey"
   ]
  },
  {
   "cell_type": "code",
   "execution_count": 20,
   "id": "b6551bf6",
   "metadata": {},
   "outputs": [],
   "source": [
    "p = pstats.Stats('restats')"
   ]
  },
  {
   "cell_type": "markdown",
   "id": "9b066853",
   "metadata": {},
   "source": [
    " The sort_stats() method sorted all the entries according to the standard module/line/name string that is printed. The print_stats() method printed out all the statistics"
   ]
  },
  {
   "cell_type": "code",
   "execution_count": 21,
   "id": "57edbfa1",
   "metadata": {},
   "outputs": [],
   "source": [
    "#p = pstats.Stats('restats')\n",
    "#p.strip_dirs().sort_stats(-1).print_stats()"
   ]
  },
  {
   "cell_type": "markdown",
   "id": "de751288",
   "metadata": {},
   "source": [
    "The first call will actually sort the list by function name, and the second call will print out the statistics."
   ]
  },
  {
   "cell_type": "code",
   "execution_count": 22,
   "id": "c6bf96f5",
   "metadata": {},
   "outputs": [],
   "source": [
    "#p.sort_stats(SortKey.NAME)\n",
    "#p.print_stats()"
   ]
  },
  {
   "cell_type": "markdown",
   "id": "382d1c8d",
   "metadata": {},
   "source": [
    "This sorts the profile by cumulative time in a function."
   ]
  },
  {
   "cell_type": "code",
   "execution_count": 23,
   "id": "eedd6c6d",
   "metadata": {},
   "outputs": [
    {
     "name": "stdout",
     "output_type": "stream",
     "text": [
      "Fri Jul 21 01:13:42 2023    restats\n",
      "\n",
      "         744238 function calls (743968 primitive calls) in 13.741 seconds\n",
      "\n",
      "   Ordered by: cumulative time\n",
      "   List reduced from 228 to 30 due to restriction <30>\n",
      "\n",
      "   ncalls  tottime  percall  cumtime  percall filename:lineno(function)\n",
      "        1    0.000    0.000   13.741   13.741 {built-in method builtins.exec}\n",
      "        1    0.004    0.004   13.741   13.741 <string>:1(<module>)\n",
      "        1    0.000    0.000   13.737   13.737 C:\\Users\\Alex\\AppData\\Local\\Temp\\ipykernel_21232\\718577105.py:34(main)\n",
      "        1    0.002    0.002   13.709   13.709 C:\\Users\\Alex\\Research\\EconoNet\\2023-07-18_MultipleSectors\\Simulate.py:138(run_simulation)\n",
      "      200    0.245    0.001   13.708    0.069 C:\\Users\\Alex\\Research\\EconoNet\\2023-07-18_MultipleSectors\\Simulate.py:156(sim_step)\n",
      "     2000    0.719    0.000   12.285    0.006 C:\\Users\\Alex\\Research\\EconoNet\\2023-07-18_MultipleSectors\\Agents.py:159(learn)\n",
      "     1910    0.097    0.000    4.424    0.002 C:\\Users\\Alex\\anaconda3\\envs\\pytorchenv\\lib\\site-packages\\torch\\optim\\optimizer.py:265(wrapper)\n",
      "     1910    0.040    0.000    4.018    0.002 C:\\Users\\Alex\\anaconda3\\envs\\pytorchenv\\lib\\site-packages\\torch\\optim\\optimizer.py:29(_use_grad)\n",
      "     1910    0.024    0.000    3.975    0.002 C:\\Users\\Alex\\anaconda3\\envs\\pytorchenv\\lib\\site-packages\\torch\\_tensor.py:428(backward)\n",
      "     1910    0.029    0.000    3.951    0.002 C:\\Users\\Alex\\anaconda3\\envs\\pytorchenv\\lib\\site-packages\\torch\\optim\\adam.py:108(step)\n",
      "     1910    0.028    0.000    3.950    0.002 C:\\Users\\Alex\\anaconda3\\envs\\pytorchenv\\lib\\site-packages\\torch\\autograd\\__init__.py:106(backward)\n",
      "     1910    3.845    0.002    3.845    0.002 {method 'run_backward' of 'torch._C._EngineBase' objects}\n",
      "     1910    0.022    0.000    3.778    0.002 C:\\Users\\Alex\\anaconda3\\envs\\pytorchenv\\lib\\site-packages\\torch\\optim\\adam.py:231(adam)\n",
      "     1910    0.942    0.000    3.707    0.002 C:\\Users\\Alex\\anaconda3\\envs\\pytorchenv\\lib\\site-packages\\torch\\optim\\adam.py:300(_single_tensor_adam)\n",
      "     5213    0.146    0.000    2.479    0.000 C:\\Users\\Alex\\Research\\EconoNet\\2023-07-18_MultipleSectors\\Agents.py:40(forward)\n",
      "    17549    0.103    0.000    2.246    0.000 C:\\Users\\Alex\\anaconda3\\envs\\pytorchenv\\lib\\site-packages\\torch\\nn\\modules\\module.py:1494(_call_impl)\n",
      "    15639    0.070    0.000    1.832    0.000 C:\\Users\\Alex\\anaconda3\\envs\\pytorchenv\\lib\\site-packages\\torch\\nn\\modules\\linear.py:113(forward)\n",
      "    15639    1.732    0.000    1.732    0.000 {built-in method torch._C._nn.linear}\n",
      "    11460    0.693    0.000    0.693    0.000 {method 'sqrt' of 'torch._C._TensorBase' objects}\n",
      "     2000    0.023    0.000    0.683    0.000 C:\\Users\\Alex\\Research\\EconoNet\\2023-07-18_MultipleSectors\\Agents.py:131(choose_action)\n",
      "    22920    0.608    0.000    0.608    0.000 {method 'mul_' of 'torch._C._TensorBase' objects}\n",
      "    11460    0.472    0.000    0.472    0.000 {method 'addcdiv_' of 'torch._C._TensorBase' objects}\n",
      "    22920    0.441    0.000    0.441    0.000 {method 'add_' of 'torch._C._TensorBase' objects}\n",
      "    11460    0.358    0.000    0.358    0.000 {method 'addcmul_' of 'torch._C._TensorBase' objects}\n",
      "     9093    0.323    0.000    0.323    0.000 {built-in method torch.tensor}\n",
      "    10426    0.026    0.000    0.297    0.000 C:\\Users\\Alex\\anaconda3\\envs\\pytorchenv\\lib\\site-packages\\torch\\nn\\functional.py:1446(relu)\n",
      "     1910    0.096    0.000    0.284    0.000 C:\\Users\\Alex\\anaconda3\\envs\\pytorchenv\\lib\\site-packages\\torch\\optim\\optimizer.py:435(zero_grad)\n",
      "    10426    0.264    0.000    0.264    0.000 {built-in method torch.relu}\n",
      "     4000    0.035    0.000    0.262    0.000 C:\\Users\\Alex\\Research\\EconoNet\\2023-07-18_MultipleSectors\\Simulate.py:102(get_state)\n",
      "     3820    0.032    0.000    0.256    0.000 C:\\Users\\Alex\\anaconda3\\envs\\pytorchenv\\lib\\site-packages\\torch\\autograd\\profiler.py:491(__enter__)\n",
      "\n",
      "\n"
     ]
    },
    {
     "data": {
      "text/plain": [
       "<pstats.Stats at 0x1b8b5f790d0>"
      ]
     },
     "execution_count": 23,
     "metadata": {},
     "output_type": "execute_result"
    }
   ],
   "source": [
    "p.sort_stats(SortKey.CUMULATIVE).print_stats(30)"
   ]
  },
  {
   "cell_type": "markdown",
   "id": "e0fdeb1e",
   "metadata": {},
   "source": [
    "If you were looking to see what functions were looping a lot, and taking a lot of time.\n",
    "\n",
    "Sort according to time spent within each function, and then print the statistics for the top $x$ functions."
   ]
  },
  {
   "cell_type": "code",
   "execution_count": 24,
   "id": "ee3599f0",
   "metadata": {},
   "outputs": [
    {
     "name": "stdout",
     "output_type": "stream",
     "text": [
      "Fri Jul 21 01:13:42 2023    restats\n",
      "\n",
      "         744238 function calls (743968 primitive calls) in 13.741 seconds\n",
      "\n",
      "   Ordered by: internal time\n",
      "   List reduced from 228 to 30 due to restriction <30>\n",
      "\n",
      "   ncalls  tottime  percall  cumtime  percall filename:lineno(function)\n",
      "     1910    3.845    0.002    3.845    0.002 {method 'run_backward' of 'torch._C._EngineBase' objects}\n",
      "    15639    1.732    0.000    1.732    0.000 {built-in method torch._C._nn.linear}\n",
      "     1910    0.942    0.000    3.707    0.002 C:\\Users\\Alex\\anaconda3\\envs\\pytorchenv\\lib\\site-packages\\torch\\optim\\adam.py:300(_single_tensor_adam)\n",
      "     2000    0.719    0.000   12.285    0.006 C:\\Users\\Alex\\Research\\EconoNet\\2023-07-18_MultipleSectors\\Agents.py:159(learn)\n",
      "    11460    0.693    0.000    0.693    0.000 {method 'sqrt' of 'torch._C._TensorBase' objects}\n",
      "    22920    0.608    0.000    0.608    0.000 {method 'mul_' of 'torch._C._TensorBase' objects}\n",
      "    11460    0.472    0.000    0.472    0.000 {method 'addcdiv_' of 'torch._C._TensorBase' objects}\n",
      "    22920    0.441    0.000    0.441    0.000 {method 'add_' of 'torch._C._TensorBase' objects}\n",
      "    11460    0.358    0.000    0.358    0.000 {method 'addcmul_' of 'torch._C._TensorBase' objects}\n",
      "     9093    0.323    0.000    0.323    0.000 {built-in method torch.tensor}\n",
      "    10426    0.264    0.000    0.264    0.000 {built-in method torch.relu}\n",
      "      200    0.245    0.001   13.708    0.069 C:\\Users\\Alex\\Research\\EconoNet\\2023-07-18_MultipleSectors\\Simulate.py:156(sim_step)\n",
      "     3820    0.214    0.000    0.214    0.000 {built-in method torch._ops.profiler._record_function_enter_new}\n",
      "     8557    0.171    0.000    0.171    0.000 {method 'reduce' of 'numpy.ufunc' objects}\n",
      "     5213    0.146    0.000    2.479    0.000 C:\\Users\\Alex\\Research\\EconoNet\\2023-07-18_MultipleSectors\\Agents.py:40(forward)\n",
      "     1910    0.143    0.000    0.143    0.000 {built-in method torch._C._nn.mse_loss}\n",
      "     2517    0.139    0.000    0.239    0.000 {method 'choice' of 'numpy.random.mtrand.RandomState' objects}\n",
      "     1910    0.129    0.000    0.129    0.000 {built-in method torch.max}\n",
      "     1910    0.105    0.000    0.139    0.000 C:\\Users\\Alex\\anaconda3\\envs\\pytorchenv\\lib\\site-packages\\torch\\optim\\adam.py:66(_init_group)\n",
      "    17549    0.103    0.000    2.246    0.000 C:\\Users\\Alex\\anaconda3\\envs\\pytorchenv\\lib\\site-packages\\torch\\nn\\modules\\module.py:1494(_call_impl)\n",
      "     1910    0.097    0.000    4.424    0.002 C:\\Users\\Alex\\anaconda3\\envs\\pytorchenv\\lib\\site-packages\\torch\\optim\\optimizer.py:265(wrapper)\n",
      "     1910    0.096    0.000    0.284    0.000 C:\\Users\\Alex\\anaconda3\\envs\\pytorchenv\\lib\\site-packages\\torch\\optim\\optimizer.py:435(zero_grad)\n",
      "     3820    0.090    0.000    0.090    0.000 {built-in method torch._ops.profiler.}\n",
      "    49007    0.090    0.000    0.090    0.000 C:\\Users\\Alex\\anaconda3\\envs\\pytorchenv\\lib\\site-packages\\torch\\nn\\modules\\module.py:1601(__getattr__)\n",
      "     8607    0.086    0.000    0.229    0.000 {built-in method numpy.core._multiarray_umath.implement_array_function}\n",
      "    17549    0.074    0.000    0.074    0.000 {built-in method torch._C._get_tracing_state}\n",
      "    15639    0.070    0.000    1.832    0.000 C:\\Users\\Alex\\anaconda3\\envs\\pytorchenv\\lib\\site-packages\\torch\\nn\\modules\\linear.py:113(forward)\n",
      "     3820    0.058    0.000    0.160    0.000 C:\\Users\\Alex\\anaconda3\\envs\\pytorchenv\\lib\\site-packages\\torch\\autograd\\profiler.py:495(__exit__)\n",
      "    12853    0.054    0.000    0.054    0.000 {method 'item' of 'torch._C._TensorBase' objects}\n",
      "    11460    0.047    0.000    0.102    0.000 C:\\Users\\Alex\\anaconda3\\envs\\pytorchenv\\lib\\site-packages\\torch\\optim\\optimizer.py:39(_get_value)\n",
      "\n",
      "\n"
     ]
    },
    {
     "data": {
      "text/plain": [
       "<pstats.Stats at 0x1b8b5f790d0>"
      ]
     },
     "execution_count": 24,
     "metadata": {},
     "output_type": "execute_result"
    }
   ],
   "source": [
    "p.sort_stats(SortKey.TIME).print_stats(30)"
   ]
  },
  {
   "cell_type": "code",
   "execution_count": 25,
   "id": "0dc29b37",
   "metadata": {},
   "outputs": [],
   "source": [
    "#p.sort_stats(SortKey.FILENAME).print_stats('__init__')"
   ]
  },
  {
   "cell_type": "code",
   "execution_count": 26,
   "id": "d20d63d1",
   "metadata": {},
   "outputs": [],
   "source": [
    "#p.sort_stats(SortKey.TIME, SortKey.CUMULATIVE).print_stats(.5)"
   ]
  },
  {
   "cell_type": "code",
   "execution_count": null,
   "id": "bb1e9662",
   "metadata": {},
   "outputs": [],
   "source": []
  }
 ],
 "metadata": {
  "kernelspec": {
   "display_name": "Python 3 (ipykernel)",
   "language": "python",
   "name": "python3"
  },
  "language_info": {
   "codemirror_mode": {
    "name": "ipython",
    "version": 3
   },
   "file_extension": ".py",
   "mimetype": "text/x-python",
   "name": "python",
   "nbconvert_exporter": "python",
   "pygments_lexer": "ipython3",
   "version": "3.9.13"
  }
 },
 "nbformat": 4,
 "nbformat_minor": 5
}
